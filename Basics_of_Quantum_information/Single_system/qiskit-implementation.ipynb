{
  "cells": [
    {
      "cell_type": "markdown",
      "id": "4f4c912d-4e7d-4418-84c1-e038659e5e35",
      "metadata": {},
      "source": [
        "# Qiskit implementation\n",
        "\n",
        "In this section, we'll take a look at some Qiskit implementations of the concepts introduced in this lesson.\n",
        "If you wish to run these implementations yourself, which is strongly encouraged, consult the [Install Qiskit](/docs/guides/install-qiskit) page in the\n",
        "[IBM Quantum Documentation](https://docs.quantum.ibm.com) for details on how to set up Qiskit.\n",
        "\n",
        "It should be understood that Qiskit is under continual development, and is principally focused on maximizing the performance of the quantum computers it is used to operate, which themselves continue to evolve.\n",
        "As a result, Qiskit is subject to changes that may occasionally lead to code deprecation.\n",
        "With this in mind, we'll always execute the following commands prior to presenting examples of Qiskit code in this course, so that it is clear which version of Qiskit has been used.\n",
        "Starting with Qiskit v1.0, this is a simple way to see what version of Qiskit is currently installed.\n",
        "\n"
      ]
    },
    {
      "cell_type": "code",
      "execution_count": 1,
      "id": "5c708d4a-5401-4a7f-9e49-fef9ec28fe0d",
      "metadata": {},
      "outputs": [
        {
          "name": "stdout",
          "output_type": "stream",
          "text": [
            "2.2.1\n"
          ]
        }
      ],
      "source": [
        "from qiskit import __version__\n",
        "\n",
        "print(__version__)"
      ]
    },
    {
      "cell_type": "markdown",
      "id": "d480155e-bfc0-4c25-8098-3f021c42fb34",
      "metadata": {},
      "source": [
        "## Vectors and matrices in Python\n",
        "\n",
        "Qiskit uses the Python programming language, so before discussing Qiskit specifically, it may be helpful to very briefly discuss matrix and vector computations in Python.\n",
        "\n",
        "In Python, matrix and vector computations can be performed using the `array` class from the `NumPy` library, which provides functionality for many numerical and scientific computations.\n",
        "The following code loads this library, defines two column vectors, `ket0` and `ket1`, corresponding to the qubit state vectors $\\vert 0\\rangle$ and $\\vert 1\\rangle,$ and then prints their average.\n",
        "\n"
      ]
    },
    {
      "cell_type": "code",
      "execution_count": 2,
      "id": "d76964d8",
      "metadata": {},
      "outputs": [
        {
          "name": "stdout",
          "output_type": "stream",
          "text": [
            "[[0.5]\n",
            " [0.5]]\n"
          ]
        }
      ],
      "source": [
        "import numpy as np\n",
        "\n",
        "ket0 = np.array([[1], [0]])\n",
        "ket1 = np.array([[0], [1]])\n",
        "\n",
        "print(ket0 / 2 + ket1 / 2)"
      ]
    },
    {
      "cell_type": "markdown",
      "id": "963b22d1",
      "metadata": {},
      "source": [
        "We can also use `array` to create matrices that can represent operations.\n",
        "\n"
      ]
    },
    {
      "cell_type": "code",
      "execution_count": 3,
      "id": "11733a15",
      "metadata": {
        "scrolled": true
      },
      "outputs": [
        {
          "name": "stdout",
          "output_type": "stream",
          "text": [
            "[[1.  0.5]\n",
            " [0.  0.5]]\n"
          ]
        }
      ],
      "source": [
        "M1 = np.array([[1, 1], [0, 0]])\n",
        "M2 = np.array([[1, 0], [0, 1]])\n",
        "M = M1 / 2 + M2 / 2\n",
        "print(M)"
      ]
    },
    {
      "attachments": {},
      "cell_type": "markdown",
      "id": "df699dfc-0171-4bcf-b920-ecc2892fce6b",
      "metadata": {},
      "source": [
        "Please note that all code appearing within a given lesson in this course is expected to be run sequentially.\n",
        "Therefore, we don't need to import `NumPy` again here, because it has already been imported.\n",
        "\n",
        "Matrix multiplication, including matrix-vector multiplication as a special case, can be performed using the `matmul` function from `NumPy`.\n",
        "\n"
      ]
    },
    {
      "cell_type": "code",
      "execution_count": 4,
      "id": "ade2c9dc",
      "metadata": {},
      "outputs": [
        {
          "name": "stdout",
          "output_type": "stream",
          "text": [
            "[[1]\n",
            " [0]]\n",
            "[[1 1]\n",
            " [0 0]]\n",
            "[[1.   0.75]\n",
            " [0.   0.25]]\n"
          ]
        }
      ],
      "source": [
        "print(np.matmul(M1, ket1))\n",
        "print(np.matmul(M1, M2))\n",
        "print(np.matmul(M, M))"
      ]
    },
    {
      "cell_type": "markdown",
      "id": "cd39e488-5c12-457f-9d15-607a478cb103",
      "metadata": {},
      "source": [
        "This output formatting leaves something to be desired, visually speaking.\n",
        "One solution, for situations that demand something prettier, is to use the`array_to_latex` function in Qiskit, from the `qiskit.visualization` module.\n",
        "Note that, in the code that follow, we're using Python's generic `display` function.\n",
        "In contrast, the specific behavior of `print` may depending on what is printed, such as it does for arrays defined by `NumPy`.\n",
        "\n"
      ]
    },
    {
      "cell_type": "code",
      "execution_count": 5,
      "id": "a15aee8e-3fc8-45a8-a2f1-7299fb92572a",
      "metadata": {},
      "outputs": [
        {
          "data": {
            "text/latex": [
              "$$\n",
              "\n",
              "\\begin{bmatrix}\n",
              "1  \\\\\n",
              " 0  \\\\\n",
              " \\end{bmatrix}\n",
              "$$"
            ],
            "text/plain": [
              "<IPython.core.display.Latex object>"
            ]
          },
          "metadata": {},
          "output_type": "display_data"
        },
        {
          "data": {
            "text/latex": [
              "$$\n",
              "\n",
              "\\begin{bmatrix}\n",
              "1 & 1  \\\\\n",
              " 0 & 0  \\\\\n",
              " \\end{bmatrix}\n",
              "$$"
            ],
            "text/plain": [
              "<IPython.core.display.Latex object>"
            ]
          },
          "metadata": {},
          "output_type": "display_data"
        },
        {
          "data": {
            "text/latex": [
              "$$\n",
              "\n",
              "\\begin{bmatrix}\n",
              "1 & \\frac{3}{4}  \\\\\n",
              " 0 & \\frac{1}{4}  \\\\\n",
              " \\end{bmatrix}\n",
              "$$"
            ],
            "text/plain": [
              "<IPython.core.display.Latex object>"
            ]
          },
          "metadata": {},
          "output_type": "display_data"
        }
      ],
      "source": [
        "from qiskit.visualization import array_to_latex\n",
        "\n",
        "display(array_to_latex(np.matmul(M1, ket1)))\n",
        "display(array_to_latex(np.matmul(M1, M2)))\n",
        "display(array_to_latex(np.matmul(M, M)))"
      ]
    },
    {
      "cell_type": "markdown",
      "id": "20e10506",
      "metadata": {},
      "source": [
        "## States, measurements, and operations\n",
        "\n",
        "Qiskit includes several classes that allow for states, measurements, and operations to be created and manipulated — so there is no need to program everything required to simulate quantum states, measurements, and operations in Python.\n",
        "Some examples to help you to get started are included below.\n",
        "\n",
        "### Define and display state vectors\n",
        "\n",
        "The`Statevector` class in Qiskit provides functionality for defining and manipulating quantum state vectors.\n",
        "In the code that follows, the `Statevector` class is imported and a few vectors are defined.\n",
        "(We're also importing the `sqrt` function from the `NumPy` library to compute a square root.\n",
        "This function could, alternatively, be called as `np.sqrt` provided that `NumPy` has already been imported, as it has above; this is merely a different way to import and use this specific function alone.)\n",
        "\n"
      ]
    },
    {
      "cell_type": "code",
      "execution_count": 7,
      "id": "36e7b320",
      "metadata": {},
      "outputs": [],
      "source": [
        "from qiskit.quantum_info import Statevector\n",
        "from numpy import sqrt\n",
        "a = Statevector([1, 0]) # |0>\n",
        "b = Statevector([0, 1]) # |1>\n",
        "u = Statevector([1 / sqrt(2), 1 / sqrt(2)]) # [|0> + |1>] / sqrt(2)\n",
        "v = Statevector([(1 + 2.0j) / 3, -2 / 3]) # [(1 + 2i) / 3 |0> - (2 / 3) |1>]\n",
        "w = Statevector([1 / 3, 2 / 3]) # [1/3 |0> + 2/3 |1>] not a valid statevector sum of squares != 1"
      ]
    },
    {
      "cell_type": "markdown",
      "id": "70e704a3",
      "metadata": {},
      "source": [
        "The `Statevector` class includes a `draw` method for displaying state vectors in a variety of ways, including\n",
        "`text` for plain text, `latex` for rendered LaTeX, and `latex_source` for LaTeX code, which can be handy for cutting and pasting into documents.\n",
        "(Use `print` rather than `display` to show LaTeX code for best results.)\n",
        "\n"
      ]
    },
    {
      "cell_type": "code",
      "execution_count": 7,
      "id": "7578e036",
      "metadata": {},
      "outputs": [
        {
          "data": {
            "text/plain": [
              "[0.70710678+0.j,0.70710678+0.j]"
            ]
          },
          "metadata": {},
          "output_type": "display_data"
        },
        {
          "data": {
            "text/latex": [
              "$$\\frac{\\sqrt{2}}{2} |0\\rangle+\\frac{\\sqrt{2}}{2} |1\\rangle$$"
            ],
            "text/plain": [
              "<IPython.core.display.Latex object>"
            ]
          },
          "metadata": {},
          "output_type": "display_data"
        },
        {
          "name": "stdout",
          "output_type": "stream",
          "text": [
            "\\frac{\\sqrt{2}}{2} |0\\rangle+\\frac{\\sqrt{2}}{2} |1\\rangle\n"
          ]
        }
      ],
      "source": [
        "display(u.draw(\"text\"))\n",
        "display(u.draw(\"latex\"))\n",
        "print(u.draw(\"latex_source\"))"
      ]
    },
    {
      "cell_type": "markdown",
      "id": "61448553",
      "metadata": {},
      "source": [
        "The `Statevector` class also includes the `is_valid` method, which checks to see if a given vector is a valid quantum state vector (in other words, that it has Euclidean norm equal to 1):\n",
        "\n"
      ]
    },
    {
      "cell_type": "code",
      "execution_count": 8,
      "id": "68dc6a1b",
      "metadata": {
        "scrolled": true
      },
      "outputs": [
        {
          "data": {
            "text/plain": [
              "True"
            ]
          },
          "metadata": {},
          "output_type": "display_data"
        },
        {
          "data": {
            "text/plain": [
              "False"
            ]
          },
          "metadata": {},
          "output_type": "display_data"
        }
      ],
      "source": [
        "display(u.is_valid())\n",
        "display(w.is_valid())"
      ]
    },
    {
      "cell_type": "markdown",
      "id": "26918a81",
      "metadata": {},
      "source": [
        "### Simulating measurements using `Statevector`\n",
        "\n",
        "Next we will see one way that measurements of quantum states can be simulated in Qiskit, using the `measure` method from the `Statevector` class.\n",
        "Let's use the same qubit state vector `v` defined previously.\n",
        "\n"
      ]
    },
    {
      "cell_type": "code",
      "execution_count": 9,
      "id": "d811bcf2",
      "metadata": {},
      "outputs": [
        {
          "data": {
            "text/latex": [
              "$$(\\frac{1}{3} + \\frac{2 i}{3}) |0\\rangle- \\frac{2}{3} |1\\rangle$$"
            ],
            "text/plain": [
              "<IPython.core.display.Latex object>"
            ]
          },
          "metadata": {},
          "output_type": "display_data"
        }
      ],
      "source": [
        "display(v.draw(\"latex\"))"
      ]
    },
    {
      "cell_type": "markdown",
      "id": "cdd4d5e1",
      "metadata": {},
      "source": [
        "Running the `measure` method simulates a standard basis measurement.\n",
        "It returns the outcome of that measurement, plus the new quantum state vector of the system after the measurement.\n",
        "(Here we're using Python's `print` function with an `f` prefix for formatted printing with embedded expressions.)\n",
        "\n"
      ]
    },
    {
      "cell_type": "code",
      "execution_count": 21,
      "id": "a6aec817-9c8b-49c6-8bd9-1c3e65e1dd0c",
      "metadata": {},
      "outputs": [
        {
          "name": "stdout",
          "output_type": "stream",
          "text": [
            "Measured: 0\n",
            "with probability 0.5555555555555556\n",
            "Post-measurement state:\n"
          ]
        },
        {
          "data": {
            "text/latex": [
              "$$(\\frac{\\sqrt{5}}{5} + \\frac{2 \\sqrt{5} i}{5}) |0\\rangle$$"
            ],
            "text/plain": [
              "<IPython.core.display.Latex object>"
            ]
          },
          "metadata": {},
          "output_type": "display_data"
        }
      ],
      "source": [
        "outcome, state = v.measure()\n",
        "if outcome == '0':\n",
        "    print(f\"Measured: {outcome}\\nwith probability {v.probabilities()[0]}\\nPost-measurement state:\")\n",
        "else:\n",
        "    print(f\"Measured: {outcome}\\nwith probability {v.probabilities()[1]}\\nPost-measurement state:\")\n",
        "display(state.draw(\"latex\"))"
      ]
    },
    {
      "attachments": {},
      "cell_type": "markdown",
      "id": "a7bc3ed4-a730-4ad3-809a-576d80779b22",
      "metadata": {},
      "source": [
        "Measurement outcomes are probabilistic, so this method can return different results when run multiple times.\n",
        "For the particular example of the vector `v` defined above, the `measure` method defines the quantum state vector after the measurement takes place to be\n",
        "\n",
        "$$\n",
        "\\biggl(\\frac{1 + 2i}{\\sqrt{5}}\\biggr) \\vert 0\\rangle\n",
        "$$\n",
        "\n",
        "(rather than $\\vert 0\\rangle$) or\n",
        "\n",
        "$$\n",
        "- \\vert 1\\rangle\n",
        "$$\n",
        "\n",
        "(rather than $\\vert 1\\rangle$), depending on the measurement outcome.\n",
        "In both cases, the alternatives to $\\vert 0\\rangle$ and $\\vert 1\\rangle$ are, in fact, equivalent to these state vectors; they are said to to *equivalent up to a global phase* because one is equal to the other multiplied by a complex number on the unit circle.\n",
        "This issue is discussed in greater detail in the [Quantum circuits](/learning/courses/basics-of-quantum-information/quantum-circuits/introduction) lesson, and can safely be ignored for now.\n",
        "\n",
        "`Statevector` will throw an error if the `measure` method is applied to an invalid quantum state vector.\n",
        "\n",
        "`Statevector` also comes with a `sample_counts` method that allows for the simulation of any number of measurements on the system, each time starting with a fresh copy of the state. For example, the following code shows the outcome of measuring the vector `v` $1000$ times, which (with high probability) results in the outcome $0$ approximately $5$ out of every $9$ times (or about $556$ of the $1000$ trials) and the outcome $1$ approximately $4$ out of every $9$ times (or about $444$ out of the $1000$ trials).\n",
        "The code that follows also demonstrates the `plot_histogram` function from the `qiskit.visualization` module for visualizing the results.\n",
        "\n"
      ]
    },
    {
      "cell_type": "code",
      "execution_count": 29,
      "id": "fde6ccf9",
      "metadata": {},
      "outputs": [
        {
          "name": "stdout",
          "output_type": "stream",
          "text": [
            "Estimated probabilities from sampling: p(0) = 0.5634, p(1) = 0.4366\n",
            "Theoretical probabilities: p(0) = 0.5555555555555556, p(1) = 0.4444444444444444\n"
          ]
        },
        {
          "data": {
            "image/png": "[encoded data removed]",
            "text/plain": [
              "<Figure size 640x480 with 1 Axes>"
            ]
          },
          "execution_count": 29,
          "metadata": {},
          "output_type": "execute_result"
        }
      ],
      "source": [
        "from qiskit.visualization import plot_histogram\n",
        "n = 5000\n",
        "statistics = v.sample_counts(n)\n",
        "# print(statistics)\n",
        "p_0 = statistics.get('0', 0) / n\n",
        "p_1 = statistics.get('1', 0) / n\n",
        "print(f\"Estimated probabilities from sampling: p(0) = {p_0}, p(1) = {p_1}\")\n",
        "print(f\"Theoretical probabilities: p(0) = {v.probabilities()[0]}, p(1) = {v.probabilities()[1]}\")\n",
        "plot_histogram(statistics)"
      ]
    },
    {
      "cell_type": "markdown",
      "id": "dccc139c",
      "metadata": {},
      "source": [
        "Running this code on your own multiple times, with different numbers of samples in place of $1000,$ may be helpful for developing some intuition for how the number of trials influences the number of times each outcome appears.\n",
        "With more and more samples, the fraction of samples for each possibility is likely to get closer and closer to the corresponding probability.\n",
        "This phenomenon, more generally speaking, is known as the *law of large numbers* in probability theory.\n",
        "\n"
      ]
    },
    {
      "cell_type": "markdown",
      "id": "326d298e",
      "metadata": {},
      "source": [
        "### Perform operations with `Operator` and `Statevector`\n",
        "\n",
        "Unitary operations can be defined in Qiskit using the `Operator` class, as in the example that follows.\n",
        "This class includes a `draw` method with similar arguments to `Statevector`.\n",
        "Note that the `latex` option produces results equivalent to `array_from_latex`.\n",
        "\n"
      ]
    },
    {
      "cell_type": "code",
      "execution_count": 30,
      "id": "ddceafd8-dbc4-4db3-886f-2955e36f98d6",
      "metadata": {},
      "outputs": [
        {
          "data": {
            "text/latex": [
              "$$\n",
              "\n",
              "\\begin{bmatrix}\n",
              "1 & 0  \\\\\n",
              " 0 & \\frac{\\sqrt{2}}{2} + \\frac{\\sqrt{2} i}{2}  \\\\\n",
              " \\end{bmatrix}\n",
              "$$"
            ],
            "text/plain": [
              "<IPython.core.display.Latex object>"
            ]
          },
          "metadata": {},
          "output_type": "display_data"
        }
      ],
      "source": [
        "from qiskit.quantum_info import Operator\n",
        "\n",
        "Y = Operator([[0, -1.0j], [1.0j, 0]]) # Pauli-Y gate\n",
        "X = Operator([[0, 1], [1, 0]]) # Pauli-X gate\n",
        "Z = Operator([[1, 0], [0, -1]]) # Pauli-Z gate\n",
        "I = Operator([[1, 0], [0, 1]]) # Identity gate\n",
        "H = Operator([[1 / sqrt(2), 1 / sqrt(2)], [1 / sqrt(2), -1 / sqrt(2)]]) # Hadamard gate\n",
        "S = Operator([[1, 0], [0, 1.0j]]) # S gate a phase gate at 90 degrees\n",
        "T = Operator([[1, 0], [0, (1 + 1.0j) / sqrt(2)]]) # T gate a phase gate at 45 degrees\n",
        "\n",
        "display(T.draw(\"latex\"))"
      ]
    },
    {
      "cell_type": "markdown",
      "id": "044ee324-28f2-49bb-9b80-ee1265f213d7",
      "metadata": {},
      "source": [
        "We can apply a unitary operation to a state vector using the `evolve` method.\n",
        "\n"
      ]
    },
    {
      "cell_type": "code",
      "execution_count": 34,
      "id": "062d5c93-577c-4491-a1ed-8eb783ba830c",
      "metadata": {},
      "outputs": [
        {
          "data": {
            "text/latex": [
              "$$\\frac{\\sqrt{2}}{2} |0\\rangle+\\frac{\\sqrt{2}}{2} |1\\rangle$$"
            ],
            "text/plain": [
              "<IPython.core.display.Latex object>"
            ]
          },
          "metadata": {},
          "output_type": "display_data"
        },
        {
          "data": {
            "text/latex": [
              "$$\\frac{\\sqrt{2}}{2} |0\\rangle+(\\frac{1}{2} + \\frac{i}{2}) |1\\rangle$$"
            ],
            "text/plain": [
              "<IPython.core.display.Latex object>"
            ]
          },
          "metadata": {},
          "output_type": "display_data"
        },
        {
          "data": {
            "text/latex": [
              "$$(0.8535533906 + 0.3535533906 i) |0\\rangle+(0.1464466094 - 0.3535533906 i) |1\\rangle$$"
            ],
            "text/plain": [
              "<IPython.core.display.Latex object>"
            ]
          },
          "metadata": {},
          "output_type": "display_data"
        },
        {
          "data": {
            "text/latex": [
              "$$(0.8535533906 + 0.3535533906 i) |0\\rangle+(0.3535533906 + 0.1464466094 i) |1\\rangle$$"
            ],
            "text/plain": [
              "<IPython.core.display.Latex object>"
            ]
          },
          "metadata": {},
          "output_type": "display_data"
        },
        {
          "data": {
            "text/latex": [
              "$$(0.1464466094 - 0.3535533906 i) |0\\rangle+(-0.3535533906 + 0.8535533906 i) |1\\rangle$$"
            ],
            "text/plain": [
              "<IPython.core.display.Latex object>"
            ]
          },
          "metadata": {},
          "output_type": "display_data"
        }
      ],
      "source": [
        "v = Statevector([1, 0]) # |0>\n",
        "\n",
        "v = v.evolve(H) # Apply Hadamard gate making |+>\n",
        "display(v.draw(\"latex\"))\n",
        "v = v.evolve(T) \n",
        "display(v.draw(\"latex\"))\n",
        "v = v.evolve(H) \n",
        "display(v.draw(\"latex\"))\n",
        "v = v.evolve(S)\n",
        "display(v.draw(\"latex\"))\n",
        "v = v.evolve(Y)\n",
        "display(v.draw(\"latex\"))\n",
        "\n",
        "# more stuff \n",
        "# v = v.evolve(X)\n",
        "# display(v.draw(\"latex\"))\n",
        "# v = v.evolve(Z)\n",
        "# display(v.draw(\"latex\"))\n",
        "# v = v.evolve(I)\n",
        "# display(v.draw(\"latex\"))"
      ]
    },
    {
      "cell_type": "markdown",
      "id": "fafda2cc",
      "metadata": {},
      "source": [
        "### A preview of quantum circuits\n",
        "\n",
        "Quantum circuits won't be formally introduced until the [Quantum circuits](/learning/courses/basics-of-quantum-information/quantum-circuits/introduction) lesson, which is the third lesson in this course, but we can nevertheless experiment with composing qubit unitary operations using the`QuantumCircuit` class in Qiskit.\n",
        "In particular, we may define a quantum circuit (which, in this case, will simply be a sequence of unitary operations performed on a single qubit) as follows.\n",
        "\n"
      ]
    },
    {
      "cell_type": "code",
      "execution_count": 9,
      "id": "68490946",
      "metadata": {},
      "outputs": [
        {
          "data": {
            "image/png": "[encoded data removed]",
            "text/plain": [
              "<Figure size 519.897x117.056 with 1 Axes>"
            ]
          },
          "metadata": {},
          "output_type": "display_data"
        }
      ],
      "source": [
        "from qiskit import QuantumCircuit\n",
        "\n",
        "circuit = QuantumCircuit(1)\n",
        "\n",
        "circuit.h(0)\n",
        "circuit.t(0)\n",
        "circuit.h(0)\n",
        "circuit.s(0)\n",
        "circuit.y(0)\n",
        "\n",
        "display(circuit.draw(output=\"mpl\"))"
      ]
    },
    {
      "attachments": {},
      "cell_type": "markdown",
      "id": "a96259ae-3466-4eef-8aa7-df0042089442",
      "metadata": {},
      "source": [
        "Here we're using the `draw` method from the `QuantumCircuit` class with the `mpl` renderer (short for `Matplotlib`, a Python visualization library).\n",
        "This is the only renderer we'll use for quantum circuits in this course, but there are other options, including a text-based and a LaTeX-based renderer.\n",
        "\n",
        "The operations are applied sequentially, starting on the left and ending on the right in the diagram.\n",
        "A handy way to get the unitary matrix corresponding to this circuit is to use the `from_circuit` method from the `Operator` class.\n",
        "\n"
      ]
    },
    {
      "cell_type": "code",
      "execution_count": null,
      "id": "add5f06f-3e1b-4ca0-adad-c83e0d05941c",
      "metadata": {},
      "outputs": [
        {
          "data": {
            "text/latex": [
              "$$\n",
              "\n",
              "\\begin{bmatrix}\n",
              "0.1464466094 - 0.3535533906 i & 0.8535533906 + 0.3535533906 i  \\\\\n",
              " -0.3535533906 + 0.8535533906 i & 0.3535533906 + 0.1464466094 i  \\\\\n",
              " \\end{bmatrix}\n",
              "$$"
            ],
            "text/plain": [
              "<IPython.core.display.Latex object>"
            ]
          },
          "metadata": {},
          "output_type": "display_data"
        }
      ],
      "source": [
        "display(Operator.from_circuit(circuit).draw(\"latex\")) # compose all gates into a single operator ie mat multiplication of the gates in inverse order"
      ]
    },
    {
      "cell_type": "markdown",
      "id": "be144783-1688-4c86-81c7-6badaa3112ff",
      "metadata": {},
      "source": [
        "We can also initialize a starting quantum state vector and then evolve that state according to the sequence of operations described by the circuit.\n",
        "\n"
      ]
    },
    {
      "cell_type": "code",
      "execution_count": 37,
      "id": "5a81f9bf",
      "metadata": {},
      "outputs": [
        {
          "data": {
            "text/latex": [
              "$$(0.1464466094 - 0.3535533906 i) |0\\rangle+(-0.3535533906 + 0.8535533906 i) |1\\rangle$$"
            ],
            "text/plain": [
              "<IPython.core.display.Latex object>"
            ]
          },
          "metadata": {},
          "output_type": "display_data"
        }
      ],
      "source": [
        "ket0 = Statevector([1, 0])\n",
        "v = ket0.evolve(circuit)\n",
        "display(v.draw(\"latex\"))"
      ]
    },
    {
      "cell_type": "markdown",
      "id": "fc2b9797",
      "metadata": {},
      "source": [
        "The following code simulates an experiment where the state obtained from the circuit above is measured with a standard basis measurement 4000 times (using a fresh copy of the state each time).\n",
        "\n"
      ]
    },
    {
      "cell_type": "code",
      "execution_count": 38,
      "id": "26dec838",
      "metadata": {},
      "outputs": [
        {
          "data": {
            "image/png": "[encoded data removed]",
            "text/plain": [
              "<Figure size 640x480 with 1 Axes>"
            ]
          },
          "metadata": {},
          "output_type": "display_data"
        }
      ],
      "source": [
        "statistics = v.sample_counts(4000)\n",
        "display(plot_histogram(statistics))"
      ]
    },
    {
      "cell_type": "code",
      "execution_count": 55,
      "id": "7d6103b0",
      "metadata": {},
      "outputs": [
        {
          "data": {
            "text/latex": [
              "$$ |0\\rangle$$"
            ],
            "text/plain": [
              "<IPython.core.display.Latex object>"
            ]
          },
          "metadata": {},
          "output_type": "display_data"
        },
        {
          "data": {
            "text/latex": [
              "$$\\frac{\\sqrt{2}}{2} |0\\rangle+\\frac{\\sqrt{2}}{2} |1\\rangle$$"
            ],
            "text/plain": [
              "<IPython.core.display.Latex object>"
            ]
          },
          "metadata": {},
          "output_type": "display_data"
        },
        {
          "data": {
            "text/latex": [
              "$$ |0\\rangle$$"
            ],
            "text/plain": [
              "<IPython.core.display.Latex object>"
            ]
          },
          "metadata": {},
          "output_type": "display_data"
        },
        {
          "data": {
            "text/latex": [
              "$$ |0\\rangle$$"
            ],
            "text/plain": [
              "<IPython.core.display.Latex object>"
            ]
          },
          "metadata": {},
          "output_type": "display_data"
        }
      ],
      "source": [
        "#succesive measurements on the same statevector\n",
        "v = Statevector([1, 0]) # |0>\n",
        "display(v.draw(\"latex\"))\n",
        "v = v.evolve(H) # Apply Hadamard gate making |+>\n",
        "display(v.draw(\"latex\"))\n",
        "outcome, v = v.measure()# first measurement\n",
        "display(v.draw(\"latex\"))\n",
        "outcome, v = v.measure()# second measurement we should get the same result as the first measurement\n",
        "display(v.draw(\"latex\"))\n"
      ]
    },
    {
      "cell_type": "markdown",
      "id": "a1b8767d",
      "metadata": {},
      "source": [
        "© IBM Corp., 2017-2025"
      ]
    }
  ],
  "metadata": {
    "description": "Using Qiskit to implement ideas from the single-systems lesson.",
    "kernelspec": {
      "display_name": ".venv",
      "language": "python",
      "name": "python3"
    },
    "language_info": {
      "codemirror_mode": {
        "name": "ipython",
        "version": 3
      },
      "file_extension": ".py",
      "mimetype": "text/x-python",
      "name": "python",
      "nbconvert_exporter": "python",
      "pygments_lexer": "ipython3",
      "version": "3.13.8"
    },
    "title": "Qiskit implementation"
  },
  "nbformat": 4,
  "nbformat_minor": 5
}
