{
 "cells": [
  {
   "cell_type": "markdown",
   "id": "07d60753",
   "metadata": {},
   "source": [
    "# Notebook-1 : Introduction to Qiskit Fundamentals"
   ]
  },
  {
   "cell_type": "markdown",
   "id": "f3158507",
   "metadata": {},
   "source": [
    "Hello everyone, welcome to 2025 edition Qiskit Fall Fest at IISER, Kolkata. We begin with this notebook which will equip you with the knowldge of basic functionalities of qiskit. Hope you have a fun time solving these exercizes."
   ]
  },
  {
   "cell_type": "code",
   "execution_count": 5,
   "id": "445b815f",
   "metadata": {},
   "outputs": [],
   "source": [
    "import numpy as np\n",
    "from qiskit import QuantumCircuit\n",
    "from qiskit.quantum_info import Pauli, SparsePauliOp, Statevector\n",
    "from qiskit.visualization import plot_histogram, plot_bloch_multivector\n",
    "from qiskit_aer import AerSimulator\n",
    "from qiskit.circuit import Parameter, ParameterVector\n",
    "import qiskit.qasm3\n",
    "from qiskit_ibm_runtime.fake_provider import FakeVigoV2\n",
    "from qiskit.transpiler.preset_passmanagers import generate_preset_pass_manager\n",
    "from qiskit_ibm_runtime import SamplerV2 as Sampler, EstimatorV2 as Estimator, QiskitRuntimeService\n"
   ]
  },
  {
   "cell_type": "markdown",
   "id": "a92d7c43",
   "metadata": {},
   "source": [
    "# Exercize - 1 : Creating Pauli Operators in Qiskit"
   ]
  },
  {
   "cell_type": "markdown",
   "id": "6df18f27",
   "metadata": {},
   "source": [
    "Write the code to create the following pauli opeartors - **XXX, IYY, ZIZ, XYX**. Remember the right most operator acts on the first qubit of your quantum circuit."
   ]
  },
  {
   "cell_type": "code",
   "execution_count": null,
   "id": "f84e1ada",
   "metadata": {},
   "outputs": [],
   "source": [
    "#XXX\n",
    "pauli_op = Pauli('XXX')\n",
    "\n",
    "print(pauli_op)\n",
    "print(pauli_op.to_matrix())\n",
    "\n",
    "#IYY\n",
    "\n",
    "\n",
    "\n",
    "\n",
    "#ZIZ\n",
    "\n",
    "\n",
    "\n",
    "\n",
    "#XYX\n",
    "\n",
    "\n",
    "\n"
   ]
  },
  {
   "cell_type": "markdown",
   "id": "864403f8",
   "metadata": {},
   "source": [
    "# Exercize - 2 : Creating Your First Quantum Circuit"
   ]
  },
  {
   "cell_type": "markdown",
   "id": "cdfc5a75",
   "metadata": {},
   "source": [
    "**Exercise 2:**\n",
    "Write code that performs following functionality:\n",
    "1. Creates a quantum circuit that contains one qubit.\n",
    "2. Puts the qubit in the state |1⟩.\n",
    "3. Apply the hadamard gate on the above state and create a superpostion state\n",
    "4. run the quantum circuit using a quantum simulator and check your results "
   ]
  },
  {
   "cell_type": "code",
   "execution_count": null,
   "id": "e6c5014c",
   "metadata": {},
   "outputs": [],
   "source": [
    "qc = QuantumCircuit(1,1)\n",
    "\n",
    "qc.x(0)\n",
    "qc.h(0)\n",
    "qc.measure(0,0)\n",
    "qc.draw(\"mpl\")\n",
    "\n"
   ]
  },
  {
   "cell_type": "code",
   "execution_count": null,
   "id": "0250da86",
   "metadata": {},
   "outputs": [],
   "source": [
    "backend = AerSimulator()\n",
    "pm = generate_preset_pass_manager(backend=backend, optimization_level=1)\n",
    "isa_qc = pm.run(qc)\n",
    "sampler = Sampler(mode=backend)\n",
    "job = sampler.run([isa_qc], shots=1024)\n",
    "result = job.result()\n",
    "counts = result[0].data.c.get_counts()\n",
    "\n",
    "plot_histogram(counts, sort='value_desc')"
   ]
  },
  {
   "cell_type": "markdown",
   "id": "214f5d7b",
   "metadata": {},
   "source": [
    "# Exercize - 3 : Creating multi-qubit Quantum Circuits"
   ]
  },
  {
   "cell_type": "markdown",
   "id": "b8945d0e",
   "metadata": {},
   "source": [
    "**Exercise 3:**\n",
    "Write code that performs following functionality:\n",
    "1. Creates a quantum circuit that contains 3 qubits .\n",
    "2. Puts the qubit in the state |000⟩.\n",
    "3. Apply the hadamard gate on all the three qubits and cnot gate from (0,1) and (1,2) to create the 3-qubit ghz state |000> + |111> .\n",
    "4. run the quantum circuit using a quantum simulator and check your results "
   ]
  },
  {
   "cell_type": "code",
   "execution_count": null,
   "id": "86ba5c5c",
   "metadata": {},
   "outputs": [],
   "source": [
    "qc = QuantumCircuit(3)\n",
    "\n",
    "\n",
    "#[code here]\n",
    "\n",
    "\n",
    "qc.measure_all()\n",
    "qc.draw(\"mpl\")"
   ]
  },
  {
   "cell_type": "code",
   "execution_count": null,
   "id": "6bfd72da",
   "metadata": {},
   "outputs": [],
   "source": [
    "backend = AerSimulator()\n",
    "pm = generate_preset_pass_manager(backend=backend, optimization_level=1)\n",
    "isa_bell = pm.run(qc)\n",
    "\n",
    "sampler = Sampler(mode=backend)\n",
    "\n",
    "job = sampler.run([isa_bell], shots=5000)\n",
    "result = job.result()\n",
    "\n",
    "counts = result[0].data.meas.get_counts()\n",
    "print(f'Measurement counts: {counts}')\n",
    "plot_histogram(counts, sort='value_desc')"
   ]
  },
  {
   "cell_type": "markdown",
   "id": "e9d94d0a",
   "metadata": {},
   "source": [
    "# Exercize - 4 : Implementing Rotation gates and Bloch Sphere Visualization"
   ]
  },
  {
   "cell_type": "markdown",
   "id": "8bcce357",
   "metadata": {},
   "source": [
    "**Exercise 4:**\n",
    "Write code that performs following functionality:\n",
    "1. Creates a quantum circuit that contains 3 qubits \n",
    "2. Apply a rotation around y-axis by an angle of pi/4 on 1st qubit\n",
    "3. Apply a rotation around x-axis by an angle of 3*pi/4 on 2nd qubit\n",
    "4. Apply a rotation around z-axis by an angle of pi/2 on 3rd qubit \n",
    "5. See the rotations of the Bloch sphere by the action of our rotation gates"
   ]
  },
  {
   "cell_type": "code",
   "execution_count": null,
   "id": "a30b53ab",
   "metadata": {},
   "outputs": [],
   "source": [
    "qc = QuantumCircuit(3)\n",
    "\n",
    "qc.ry(np.pi / 4, 0)\n",
    "\n",
    "#[code here for remaining rotation gates]\n",
    "\n",
    "\n",
    "sv = Statevector(qc)\n",
    "probs = sv.probabilities_dict()\n",
    "print(f'Probabilities: {probs}')\n",
    "plot_bloch_multivector(sv)"
   ]
  },
  {
   "cell_type": "markdown",
   "id": "3bbf9301",
   "metadata": {},
   "source": [
    "# Exercize - 5 : Parametrized Quantum Circuits"
   ]
  },
  {
   "cell_type": "markdown",
   "id": "7d3ae862",
   "metadata": {},
   "source": [
    "**Exercise 5:**\n",
    "Write code that performs following functionality:\n",
    "1. Creates a `Parameter` instance to represent a parameter named `theta`.\n",
    "2. Creates a quantum circuit `qc` that contains one qubit.\n",
    "3. Adds an RX gate with parameter `theta` to the qubit wire.\n",
    "4. Draws the `qc` circuit.\n",
    "5. Creates a new circuit `bound_qc` by binding the parameter `theta` to the value `π/2`.\n",
    "6. Draws the `bound_qc` circuit."
   ]
  },
  {
   "cell_type": "code",
   "execution_count": null,
   "id": "548c69b3",
   "metadata": {},
   "outputs": [],
   "source": [
    "theta = Parameter('θ')\n",
    "qc = QuantumCircuit(1)\n",
    "#[code here]\n",
    "\n",
    "print('Original Unbound Circuit:')\n",
    "display(qc.draw('mpl'))\n",
    "\n",
    "bound_qc = qc.assign_parameters#(choose appropriate parameters)\n",
    "\n",
    "print('New Bound Circuit:')\n",
    "bound_qc.draw('mpl')"
   ]
  },
  {
   "cell_type": "markdown",
   "id": "7c5858c1",
   "metadata": {},
   "source": [
    "# Exercize - 6 : Calculating expectation values of observables in Qiskit"
   ]
  },
  {
   "cell_type": "markdown",
   "id": "810c5860",
   "metadata": {},
   "source": [
    "**Exercise 6:**\n",
    "Write code that performs following functionality:\n",
    "1. Creates a quantum circuit that contains the |Φ+⟩ Bell state i.e |00> + |11> .\n",
    "2. Defines the ZZ observable using `SparsePauliOp`\n",
    "3. Transpiles the circuit using the `AerSimulator` backend.\n",
    "4. Applies the observable to the circuit layout\n",
    "5. Initializes the `Estimator` primitive with the `AerSimulator` backend.\n",
    "6. Runs the Estimator.\n",
    "4. Gets the PUB result.\n",
    "5. Retrieves and prints the expectation value."
   ]
  },
  {
   "cell_type": "code",
   "execution_count": null,
   "id": "cdaa8f9c",
   "metadata": {},
   "outputs": [],
   "source": [
    "bell = QuantumCircuit(2)\n",
    "bell.h(0)\n",
    "bell.cx(0, 1)\n",
    "\n",
    "\n",
    "#code here\n",
    "\n",
    "isa_observable = observable.apply_layout(isa_bell.layout)\n",
    "\n",
    "estimator = Estimator(mode=backend)\n",
    "\n",
    "job = estimator.run([(isa_bell, isa_observable)])\n",
    "result = job.result()\n",
    "\n",
    "pub_result = result[0]\n",
    "exp_val = pub_result.data.evs\n",
    "print(f'Expectation value for ZZ: {exp_val}')"
   ]
  },
  {
   "cell_type": "markdown",
   "id": "3b10fc9a",
   "metadata": {},
   "source": [
    "# Congratulations ! You have learnt the basics of Quantum Computing using Qiskit."
   ]
  },
  {
   "cell_type": "code",
   "execution_count": null,
   "id": "1d330242",
   "metadata": {},
   "outputs": [],
   "source": [
    "print(\"Congratulations! You have learnt the basics of Quantum Computing using Qiskit\")"
   ]
  }
 ],
 "metadata": {
  "kernelspec": {
   "display_name": "Python 3",
   "language": "python",
   "name": "python3"
  },
  "language_info": {
   "codemirror_mode": {
    "name": "ipython",
    "version": 3
   },
   "file_extension": ".py",
   "mimetype": "text/x-python",
   "name": "python",
   "nbconvert_exporter": "python",
   "pygments_lexer": "ipython3",
   "version": "3.13.3"
  }
 },
 "nbformat": 4,
 "nbformat_minor": 5
}
